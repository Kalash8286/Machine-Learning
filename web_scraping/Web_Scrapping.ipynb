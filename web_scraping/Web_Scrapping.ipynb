{
  "nbformat": 4,
  "nbformat_minor": 0,
  "metadata": {
    "colab": {
      "name": "Web_Scrapping.ipynb",
      "provenance": [],
      "authorship_tag": "ABX9TyNQCozJEE/X0DifSh3kfnPx",
      "include_colab_link": true
    },
    "kernelspec": {
      "name": "python3",
      "display_name": "Python 3"
    },
    "language_info": {
      "name": "python"
    }
  },
  "cells": [
    {
      "cell_type": "markdown",
      "metadata": {
        "id": "view-in-github",
        "colab_type": "text"
      },
      "source": [
        "<a href=\"https://colab.research.google.com/github/Kalash8286/Scraping/blob/main/web_scraping/Web_Scrapping.ipynb\" target=\"_parent\"><img src=\"https://colab.research.google.com/assets/colab-badge.svg\" alt=\"Open In Colab\"/></a>"
      ]
    },
    {
      "cell_type": "code",
      "execution_count": 54,
      "metadata": {
        "id": "mON1xAP0wwO0"
      },
      "outputs": [],
      "source": [
        "import requests\n",
        "from bs4 import BeautifulSoup\n"
      ]
    },
    {
      "cell_type": "code",
      "source": [
        "URL = \"https://www.w3schools.com/html/html_headings.asp\"\n",
        "# URL = \"https://www.w3schools.com/html/html_paragraphs.asp\"\n",
        "# URL = \"https://www.w3schools.com/html/html_formatting.asp\""
      ],
      "metadata": {
        "id": "GJUlkSBvyhnP"
      },
      "execution_count": 55,
      "outputs": []
    },
    {
      "cell_type": "code",
      "source": [
        "r = requests.get(URL)   \n",
        "soup = BeautifulSoup(r.content, 'html.parser')"
      ],
      "metadata": {
        "id": "8XsupVIoymsx"
      },
      "execution_count": 56,
      "outputs": []
    },
    {
      "cell_type": "code",
      "source": [
        "subHeading, subHeadingList  =([] for i in range(2))\n",
        "subHeadingIntro, subHeadings, allEaxmples =([] for i in range(3))"
      ],
      "metadata": {
        "id": "nuLXn2NEyo_7"
      },
      "execution_count": 57,
      "outputs": []
    },
    {
      "cell_type": "code",
      "source": [
        "#convert list into string\n",
        "def listIntoString(lists):    \n",
        "    str1 =''\n",
        "    for ele in lists:         \n",
        "        str1 += ele  \n",
        "    return str1"
      ],
      "metadata": {
        "id": "qxu5txh7y-q3"
      },
      "execution_count": 58,
      "outputs": []
    },
    {
      "cell_type": "code",
      "source": [
        "# here all p tags are passed which includes text all other headings also\n",
        "# so here exatracting only needed text for \n",
        "def filterSubHeadingIntro(subHeadingIntro):\n",
        "    removeStr = len(subHeadingIntro)\n",
        "    i = -1\n",
        "    subIntro = []\n",
        "    lastItem = \"\"\n",
        "    while removeStr > 0:   \n",
        "        if( len(subHeadingIntro[i]) != 0 ):\n",
        "            if(len(subIntro) == 0):\n",
        "                subIntro.append(subHeadingIntro[i])\n",
        "                lastItem = subHeadingIntro[i]\n",
        "            else:\n",
        "                subIntro.append(subHeadingIntro[i].replace(lastItem, \"\"))\n",
        "                lastItem = subHeadingIntro[i]           \n",
        "        i -= 1\n",
        "        removeStr -= 1\n",
        "    subIntro.reverse()\n",
        "    return subIntro"
      ],
      "metadata": {
        "id": "FgtmO4SYy_NA"
      },
      "execution_count": 59,
      "outputs": []
    },
    {
      "cell_type": "code",
      "source": [
        "# print(\"\\n==========PAGE HEADING==============\")\n",
        "heading = soup.find_all('span', class_='color_h1')[0].get_text()\n",
        "\n",
        "# print(\"\\n==========INTRODUCTION==============\")\n",
        "intro = soup.find_all('p', class_='intro')[0].get_text()"
      ],
      "metadata": {
        "id": "JVza274ty_nV"
      },
      "execution_count": 60,
      "outputs": []
    },
    {
      "cell_type": "code",
      "source": [
        "# print(\"\\n==========ALL SUB HEADINGS==============\")\n",
        "sub_heading = soup.find('hr')\n",
        "sub_heading = sub_heading.find_next_siblings(\"h2\")\n",
        "for h in sub_heading:\n",
        "    if(h.string == 'HTML Exercises'):\n",
        "        break\n",
        "    else:\n",
        "        subHeadings.append(h.get_text())"
      ],
      "metadata": {
        "id": "KzFXps_TzAiL"
      },
      "execution_count": 61,
      "outputs": []
    },
    {
      "cell_type": "code",
      "source": [
        "# print(\"\\n==========INTRO FOR ALL SUB HEADINGS==============\")\n",
        "sub_heading_intro = soup.find('div', id='main')\n",
        "length = len(sub_heading_intro.find_all('hr'))\n",
        "i=0\n",
        "while i < length:\n",
        "    sub = sub_heading_intro.find_all('hr')[i]\n",
        "    sub = sub.find_next_siblings(\"p\")\n",
        "    for k in sub:      \n",
        "        if(k.get_text() == intro):\n",
        "            continue\n",
        "        if(k.get_text().__contains__(\"W3Schools' tag reference contains\")):\n",
        "            continue\n",
        "        else:  \n",
        "            subHeadingList.append(k.get_text()) \n",
        "    str1 = listIntoString(subHeadingList)\n",
        "    subHeadingList.clear()  \n",
        "    if(str1 not in subHeadingIntro):\n",
        "        subHeadingIntro.append(str1)               \n",
        "    i += 1\n",
        "    \n",
        "# sending data for filtering\n",
        "subHeadingIntro = filterSubHeadingIntro(subHeadingIntro)"
      ],
      "metadata": {
        "id": "LPIVqlgxy_v0"
      },
      "execution_count": 62,
      "outputs": []
    },
    {
      "cell_type": "code",
      "source": [
        "# print(\"\\n==========ALL EXAMPLES FOR SUB HEADINGS==============\")\n",
        "example = soup.select(\"div.w3-example div.notranslate\")\n",
        "for e in example:\n",
        "    allEaxmples.append(e.get_text())"
      ],
      "metadata": {
        "id": "HJ6d9EKFy_4X"
      },
      "execution_count": 63,
      "outputs": []
    },
    {
      "cell_type": "code",
      "source": [
        "print(\"\\n==========PAGE HEADING==============\")\n",
        "print(heading)\n",
        "\n",
        "print(\"\\n==========INTRODUCTION==============\")\n",
        "print(intro)"
      ],
      "metadata": {
        "colab": {
          "base_uri": "https://localhost:8080/"
        },
        "id": "eTDlASujzh0O",
        "outputId": "a322cf45-e247-43ea-ad01-e366c02fe4d0"
      },
      "execution_count": 64,
      "outputs": [
        {
          "output_type": "stream",
          "name": "stdout",
          "text": [
            "\n",
            "==========PAGE HEADING==============\n",
            "Headings\n",
            "\n",
            "==========INTRODUCTION==============\n",
            "HTML headings are titles or subtitles that you want to display on a webpage.\n"
          ]
        }
      ]
    },
    {
      "cell_type": "code",
      "source": [
        "print(\"\\n==========SUB HEADING +++ INTRO +++ EXAMPLES==============\")\n",
        "counter = 0\n",
        "for head in subHeadings:\n",
        "    print(\"\\nSUB HEADING\", counter+1)\n",
        "    print(\"subHeadings => \",subHeadings[counter])\n",
        "    print(\"subHeadingIntro =>\", subHeadingIntro[counter])\n",
        "    print(\"Eaxmples =>\", allEaxmples[counter])\n",
        "    counter += 1"
      ],
      "metadata": {
        "colab": {
          "base_uri": "https://localhost:8080/"
        },
        "id": "hwvOd7wpzn1g",
        "outputId": "3ac65bca-c5e2-4d2a-85c4-d8e4be7dee52"
      },
      "execution_count": 65,
      "outputs": [
        {
          "output_type": "stream",
          "name": "stdout",
          "text": [
            "\n",
            "==========SUB HEADING +++ INTRO +++ EXAMPLES==============\n",
            "\n",
            "SUB HEADING 1\n",
            "subHeadings =>  HTML Headings\n",
            "subHeadingIntro => HTML headings are defined with the <h1> to <h6> tags.<h1> defines the most important heading. <h6> defines the least important heading.\n",
            "Eaxmples => \n",
            "Heading 1\n",
            "Heading 2\n",
            "Heading 3\n",
            "Heading 4\n",
            "Heading 5\n",
            "Heading 6\n",
            "\n",
            "\n",
            "SUB HEADING 2\n",
            "subHeadings =>  Headings Are Important\n",
            "subHeadingIntro => Search engines use the headings to index the structure and content of your web pages.Users often skim a page by its headings. It is important to use headings to show the document structure.<h1> headings should be used for main headings, followed by <h2> headings, then the less important \n",
            "<h3>, and so on.\n",
            "Eaxmples => \n",
            "<h1>Heading 1</h1>\n",
            "<h2>Heading 2</h2>\n",
            "<h3>Heading 3</h3><h4>Heading 4</h4><h5>Heading 5</h5><h6>Heading 6</h6>\n",
            "\n",
            "SUB HEADING 3\n",
            "subHeadings =>  Bigger Headings\n",
            "subHeadingIntro => Each HTML heading has a default size. However, you can specify the size for any heading \n",
            "with the style attribute, using the CSS font-size property:\n",
            "Eaxmples => \n",
            "<h1 \n",
            "  style=\"font-size:60px;\">Heading 1</h1>\n",
            "\n"
          ]
        }
      ]
    }
  ]
}