{
  "nbformat": 4,
  "nbformat_minor": 0,
  "metadata": {
    "colab": {
      "name": "ML.ipynb",
      "provenance": [],
      "collapsed_sections": [],
      "authorship_tag": "ABX9TyPKNK1Jt9UwFfe/71VSkDhn",
      "include_colab_link": true
    },
    "kernelspec": {
      "name": "python3",
      "display_name": "Python 3"
    },
    "language_info": {
      "name": "python"
    }
  },
  "cells": [
    {
      "cell_type": "markdown",
      "metadata": {
        "id": "view-in-github",
        "colab_type": "text"
      },
      "source": [
        "<a href=\"https://colab.research.google.com/github/Kalash8286/Scraping/blob/main/Machine%20Learning/ML.ipynb\" target=\"_parent\"><img src=\"https://colab.research.google.com/assets/colab-badge.svg\" alt=\"Open In Colab\"/></a>"
      ]
    },
    {
      "cell_type": "code",
      "source": [
        "import pandas as pd\n",
        "from pandas.plotting import scatter_matrix\n",
        "import matplotlib.pyplot as plt"
      ],
      "metadata": {
        "id": "3K9tJycMJPaX"
      },
      "execution_count": null,
      "outputs": []
    },
    {
      "cell_type": "code",
      "source": [
        "names = ['']\n",
        "\n",
        "AppDateApple_Dataset = pd.read_csv('CONSOLE_DIGITAL_MARKETING_APP_DATE_GOOGLE.csv')\n",
        "AppDateApple_Dataset = AppDateApple_Dataset.loc[:, AppDateApple_Dataset.columns != 'DATE']\n",
        "# print(AppDateApple_Dataset.columns)\n",
        "print(AppDateApple_Dataset.shape)"
      ],
      "metadata": {
        "id": "Apnw75TZT6db"
      },
      "execution_count": null,
      "outputs": []
    },
    {
      "cell_type": "code",
      "source": [
        "print(AppDateApple_Dataset.head(5))"
      ],
      "metadata": {
        "id": "yneMkjNBQ8gc"
      },
      "execution_count": null,
      "outputs": []
    },
    {
      "cell_type": "code",
      "source": [
        "print(AppDateApple_Dataset.describe())"
      ],
      "metadata": {
        "id": "ug_vQItHUQCP"
      },
      "execution_count": null,
      "outputs": []
    },
    {
      "cell_type": "code",
      "source": [
        "AppDateApple_Dataset.plot(kind='box', subplots = True, layout=(15,5), sharex = False, sharey = False)\n",
        "plt.rcParams[\"figure.figsize\"] = (250,400)\n",
        "plt.show()\n"
      ],
      "metadata": {
        "id": "aCMjLN4vYHxm"
      },
      "execution_count": null,
      "outputs": []
    },
    {
      "cell_type": "code",
      "source": [
        "AppDateApple_Dataset.hist()\n",
        "plt.rcParams[\"figure.figsize\"] = (180,100)\n",
        "plt.show()"
      ],
      "metadata": {
        "id": "NzKsWO5rgnHy"
      },
      "execution_count": null,
      "outputs": []
    },
    {
      "cell_type": "code",
      "source": [
        "scatter_matrix(AppDateApple_Dataset)\n",
        "plt.rcParams[\"figure.figsize\"] = (180,100)\n",
        "plt.show()"
      ],
      "metadata": {
        "id": "Q38vr8Vg_faD"
      },
      "execution_count": null,
      "outputs": []
    }
  ]
}