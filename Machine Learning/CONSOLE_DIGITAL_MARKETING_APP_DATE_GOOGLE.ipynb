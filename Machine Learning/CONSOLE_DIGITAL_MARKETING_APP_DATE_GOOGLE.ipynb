{
  "cells": [
    {
      "cell_type": "markdown",
      "metadata": {
        "id": "view-in-github",
        "colab_type": "text"
      },
      "source": [
        "<a href=\"https://colab.research.google.com/github/Kalash8286/Scraping/blob/main/Machine%20Learning/CONSOLE_DIGITAL_MARKETING_APP_DATE_GOOGLE.ipynb\" target=\"_parent\"><img src=\"https://colab.research.google.com/assets/colab-badge.svg\" alt=\"Open In Colab\"/></a>"
      ]
    },
    {
      "cell_type": "code",
      "execution_count": null,
      "id": "28f520de",
      "metadata": {
        "id": "28f520de"
      },
      "outputs": [],
      "source": [
        "import sys\n",
        "print('Python: {}'.format(sys.version))\n",
        "# scipy\n",
        "import scipy\n",
        "print('scipy: {}'.format(scipy.__version__))\n",
        "# numpy\n",
        "import numpy\n",
        "print('numpy: {}'.format(numpy.__version__))\n",
        "# matplotlib\n",
        "import matplotlib\n",
        "print('matplotlib: {}'.format(matplotlib.__version__))\n",
        "# pandas\n",
        "import pandas\n",
        "print('pandas: {}'.format(pandas.__version__))\n",
        "# scikit-learn\n",
        "import sklearn\n",
        "print('sklearn: {}'.format(sklearn.__version__))"
      ]
    },
    {
      "cell_type": "code",
      "execution_count": null,
      "id": "2f7eb310",
      "metadata": {
        "id": "2f7eb310"
      },
      "outputs": [],
      "source": [
        "import matplotlib.pyplot as plt\n",
        "import numpy as np\n",
        "import pandas as pd\n",
        "import seaborn as sns\n",
        "from pandas.plotting import scatter_matrix\n",
        "import matplotlib.pyplot as plt\n",
        "from sklearn import preprocessing\n",
        "from sklearn import model_selection\n",
        "from sklearn.metrics import classification_report\n",
        "from sklearn.metrics import confusion_matrix\n",
        "from sklearn.metrics import accuracy_score\n",
        "from sklearn.linear_model import LogisticRegression\n",
        "from sklearn.tree import DecisionTreeClassifier\n",
        "from sklearn.neighbors import KNeighborsClassifier\n",
        "from sklearn.discriminant_analysis import LinearDiscriminantAnalysis\n",
        "from sklearn.naive_bayes import GaussianNB\n",
        "from sklearn.svm import SVC"
      ]
    },
    {
      "cell_type": "code",
      "execution_count": null,
      "id": "74f45916",
      "metadata": {
        "id": "74f45916"
      },
      "outputs": [],
      "source": [
        "dataset = pd.read_csv(\"CONSOLE_DIGITAL_MARKETING_APP_DATE_GOOGLE.csv\", sep=\",\")"
      ]
    },
    {
      "cell_type": "code",
      "execution_count": null,
      "id": "d099b6a4",
      "metadata": {
        "id": "d099b6a4"
      },
      "outputs": [],
      "source": [
        "dataset.head(5)"
      ]
    },
    {
      "cell_type": "code",
      "execution_count": null,
      "id": "dea514e0",
      "metadata": {
        "id": "dea514e0"
      },
      "outputs": [],
      "source": [
        "print(dataset.describe())"
      ]
    },
    {
      "cell_type": "code",
      "execution_count": null,
      "id": "73b0f15c",
      "metadata": {
        "id": "73b0f15c"
      },
      "outputs": [],
      "source": [
        "print(dataset.shape)"
      ]
    },
    {
      "cell_type": "code",
      "execution_count": null,
      "id": "9f6f48ff",
      "metadata": {
        "id": "9f6f48ff"
      },
      "outputs": [],
      "source": [
        "################## HISTOGRAM  ######################\n",
        "dataset.hist(figsize=(30,25))\n",
        "plt.show()"
      ]
    },
    {
      "cell_type": "code",
      "execution_count": null,
      "id": "ebd27264",
      "metadata": {
        "id": "ebd27264"
      },
      "outputs": [],
      "source": [
        "dataset.plot(figsize=(30,25))"
      ]
    },
    {
      "cell_type": "code",
      "execution_count": null,
      "id": "3d8e39e9",
      "metadata": {
        "id": "3d8e39e9"
      },
      "outputs": [],
      "source": [
        "dataset.plot.box(figsize=(30,25))"
      ]
    },
    {
      "cell_type": "code",
      "execution_count": null,
      "id": "19fe8ac7",
      "metadata": {
        "id": "19fe8ac7"
      },
      "outputs": [],
      "source": [
        "################# SUBPLOT GRAPH #####################\n",
        "\n",
        "axs = dataset.plot.area(figsize=(30,25), subplots=True)"
      ]
    },
    {
      "cell_type": "code",
      "execution_count": null,
      "id": "20a746a6",
      "metadata": {
        "id": "20a746a6"
      },
      "outputs": [],
      "source": [
        "# sns.displot(dataset)"
      ]
    },
    {
      "cell_type": "code",
      "execution_count": null,
      "id": "d63e761d",
      "metadata": {
        "id": "d63e761d"
      },
      "outputs": [],
      "source": [
        "################# BAR GRAPH #####################\n",
        "\n",
        "# y = ['C_COMPILER', 'C_TUTORIAL', 'CSHARP_COMPILER', 'CSHARP_TUTORIAL', 'CPLUSPLUS_COMPILER', 'CPLUSPLUS_TUTORIAL', 'CALCULATORPLUS', 'CALENDARPLUS', 'COMPILERPLUS', 'CSS_TUTORIAL', 'DART_COMPILER', 'DART_TUTORIAL', 'GO_COMPILER', 'GO_TUTORIAL',\n",
        "#        'HTML_TUTORIAL', 'JAVA_COMPILER', 'JAVA_TUTORIAL', 'JAVASCRIPT_COMPILER', 'JAVASCRIPT_TUTORIAL', 'KOTLIN_COMPILER', 'KOTLIN_TUTORIAL', 'MOTIVATIONPLUS', 'NOTESPLUS', 'PHP_COMPILER', 'PHP_TUTORIAL', 'PYTHON_COMPILER', 'PYTHON_TUTORIAL', 'RUBY_COMPILER',\n",
        "#        'RUBY_TUTORIAL', 'SUCCESS_STORIES', 'SWIFT_COMPILER', 'SWIFT_TUTORIAL', 'TASKSPLUS', 'TIMEPLUS', 'TRAVEL_DIARIES', 'XML_TUTORIAL']\n",
        "\n",
        "# y = dataset.C_COMPILER\n",
        "plt.figure(figsize=(150,50))\n",
        "# print(y)\n",
        "plt.bar(dataset.C_COMPILER, dataset.DATE, label=\"C_COMPILER\",color=\"c\",width=.5)\n",
        "plt.bar(dataset.C_TUTORIAL, dataset.DATE, label=\"C_TUTORIAL\",color=\"g\",width=.5)\n",
        "plt.legend()\n",
        "plt.show()"
      ]
    },
    {
      "cell_type": "code",
      "source": [
        "################# SCATTER GRAPH #####################\n",
        "\n",
        "plt.figure(figsize=(50,50))\n",
        "plt.scatter(dataset.C_COMPILER, dataset.DATE, label=\"C_COMPILER\",color=\"c\")\n",
        "plt.scatter(dataset.C_TUTORIAL, dataset.DATE, label=\"C_TUTORIAL\",color=\"g\")\n",
        "plt.legend()\n",
        "plt.show()"
      ],
      "metadata": {
        "id": "cMBV7fzdSE8o"
      },
      "id": "cMBV7fzdSE8o",
      "execution_count": null,
      "outputs": []
    },
    {
      "cell_type": "code",
      "source": [
        "################# STACK/AREA PLOT #####################\n",
        "\n",
        "plt.figure(figsize=(50,50))\n",
        "plt.plot([],[],color='c', label='DATE', linewidth=5)\n",
        "plt.plot([],[],color='g', label='C_COMPILER', linewidth=5)\n",
        "plt.stackplot(dataset.DATE,dataset.C_COMPILER,dataset.C_TUTORIAL,colors=['c','g'])\n",
        "plt.legend()\n",
        "plt.show()"
      ],
      "metadata": {
        "id": "lKIXFJz9UMlf"
      },
      "id": "lKIXFJz9UMlf",
      "execution_count": null,
      "outputs": []
    }
  ],
  "metadata": {
    "kernelspec": {
      "display_name": "Python 3 (ipykernel)",
      "language": "python",
      "name": "python3"
    },
    "language_info": {
      "codemirror_mode": {
        "name": "ipython",
        "version": 3
      },
      "file_extension": ".py",
      "mimetype": "text/x-python",
      "name": "python",
      "nbconvert_exporter": "python",
      "pygments_lexer": "ipython3",
      "version": "3.9.7"
    },
    "colab": {
      "name": "CONSOLE_DIGITAL_MARKETING_APP_DATE_GOOGLE.ipynb",
      "provenance": [],
      "collapsed_sections": [],
      "include_colab_link": true
    }
  },
  "nbformat": 4,
  "nbformat_minor": 5
}